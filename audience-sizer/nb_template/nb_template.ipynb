{
 "cells": [
  {
   "cell_type": "markdown",
   "metadata": {
    "lines_to_next_cell": 2
   },
   "source": [
    "# Audience Sizer\n",
    "POC of doing an Audience Pull for Marketing based off the following Jira Tickets\n",
    "\n",
    "[CBSBI-1502](https://owl.cbsi.com/jira/browse/CBSBI-1502)   \n",
    "[CBSBI-1501](https://owl.cbsi.com/jira/browse/CBSBI-1501)   \n",
    "[Strang Angle - CBSBI-1558](https://owl.cbsi.com/jira/browse/CBSBI-1558)\n"
   ]
  },
  {
   "cell_type": "code",
   "execution_count": 9,
   "metadata": {
    "tags": [
     "parameters"
    ]
   },
   "outputs": [],
   "source": [
    "start_dt='2019-06-01'\n",
    "end_dt='2019-06-05'\n",
    "show_nm='Strange Angel'\n",
    "video_cnt=2\n",
    "len_seconds=1000"
   ]
  },
  {
   "cell_type": "code",
   "execution_count": 10,
   "metadata": {},
   "outputs": [
    {
     "name": "stdout",
     "output_type": "stream",
     "text": [
      "The autoreload extension is already loaded. To reload it, use:\n",
      "  %reload_ext autoreload\n"
     ]
    }
   ],
   "source": [
    "import sys\n",
    "import logging\n",
    "\n",
    "import numpy as np\n",
    "\n",
    "%load_ext autoreload\n",
    "%autoreload 2\n",
    "\n",
    "import pandas as pd\n",
    "pd.set_option(\"display.max_rows\", 120)\n",
    "pd.set_option(\"display.max_columns\", 120)\n",
    "\n",
    "logging.basicConfig(level=logging.INFO, stream=sys.stdout)"
   ]
  },
  {
   "cell_type": "code",
   "execution_count": 11,
   "metadata": {},
   "outputs": [],
   "source": [
    "pd.set_option(\"display.max_rows\", 1000)\n",
    "pd.set_option(\"display.max_columns\", 120)"
   ]
  },
  {
   "cell_type": "markdown",
   "metadata": {},
   "source": [
    "### Set Constants"
   ]
  },
  {
   "cell_type": "code",
   "execution_count": 12,
   "metadata": {
    "lines_to_next_cell": 0
   },
   "outputs": [],
   "source": [
    "from google.cloud import bigquery\n",
    "from google.oauth2 import service_account\n",
    "\n",
    "credentials = service_account.Credentials.from_service_account_file('/Users/orami0610/.ssh/google-api/keys/i-dss-cdm-data-e812ceff6640.json')\n",
    "project_id = \"i-dss-cdm-data\"\n",
    "\n",
    "\n",
    "# service_account = get_service_account_key(CDM_DATA_SERVICE_ACCOUNT)\n",
    "# service_account = get_service_account_key(DEFAULT_CREDENTIALS)\n",
    "\n",
    "bq = bigquery.Client(credentials=credentials, project=project_id)\n",
    "\n",
    "# bq = BQConnector(service_account, project_id)"
   ]
  },
  {
   "cell_type": "markdown",
   "metadata": {},
   "source": [
    "### Get Audience\n",
    "Added a breakdown for season counts. "
   ]
  },
  {
   "cell_type": "code",
   "execution_count": 13,
   "metadata": {},
   "outputs": [],
   "source": [
    "sql_audience = \"\"\"\n",
    "    WITH cte_event AS (\n",
    "      SELECT\n",
    "        e.v69_registration_id_nbr,\n",
    "        concat('season_', video_season_nbr) season,\n",
    "        MAX(v.video_series_nm) video_series_nm, \n",
    "        MIN(day_dt) min_day_dt,\n",
    "        MAX(day_dt) max_day_dt,\n",
    "        --MIN(e.v15_user_status_cd) min_v15_user_status_cd,\n",
    "        --MAX(e.v15_user_status_cd) max_v15_user_status_cd,\n",
    "        SUM(media_start_cnt) media_start_cnt,\n",
    "        COUNT(DISTINCT e.v31_mpx_reference_guid) video_cnt \n",
    "\n",
    "      FROM\n",
    "        `dw_vw.aa_cs_video_detail_day` e\n",
    "      INNER JOIN\n",
    "        `dw_vw.mpx_video_content` v\n",
    "      ON\n",
    "        v.mpx_reference_guid = e.v31_mpx_reference_guid\n",
    "      WHERE\n",
    "        day_dt between '{start_dt}' and '{end_dt}'\n",
    "        AND v69_registration_id_nbr IS NOT NULL\n",
    "        --and v.episodic_ind = True\n",
    "        AND media_start_cnt > 0\n",
    "        AND v.video_series_nm = '{shown_nm}'\n",
    "        # AND e.v9_rsid_id = 'cnetcbscomsite'\n",
    "        AND v.length_in_seconds > {lis}\n",
    "      GROUP BY\n",
    "        1,2\n",
    "    )\n",
    "\n",
    "    SELECT\n",
    "      e.*,\n",
    "      r.*,\n",
    "      s.src_instance_nm\n",
    "    FROM\n",
    "      cte_event e\n",
    "    INNER JOIN\n",
    "      `i-dss-cdm-data-dev.cdm_pt.pt_cbs_aa_registration_dim` r\n",
    "    ON\n",
    "      CAST(r.user_id AS string) = e.v69_registration_id_nbr and r.src_system_id = 108\n",
    "    INNER JOIN\n",
    "      `dw_vw.source_system_dim` s\n",
    "    ON\n",
    "      s.src_system_id = r.src_system_id\n",
    "\"\"\""
   ]
  },
  {
   "cell_type": "code",
   "execution_count": 14,
   "metadata": {},
   "outputs": [],
   "source": [
    "df_audience_raw = bq.query(sql_audience.format(start_dt=start_dt, end_dt=end_dt, shown_nm=show_nm, lis=len_seconds)).to_dataframe()"
   ]
  },
  {
   "cell_type": "code",
   "execution_count": 15,
   "metadata": {},
   "outputs": [
    {
     "data": {
      "text/html": [
       "<div>\n",
       "<style scoped>\n",
       "    .dataframe tbody tr th:only-of-type {\n",
       "        vertical-align: middle;\n",
       "    }\n",
       "\n",
       "    .dataframe tbody tr th {\n",
       "        vertical-align: top;\n",
       "    }\n",
       "\n",
       "    .dataframe thead th {\n",
       "        text-align: right;\n",
       "    }\n",
       "</style>\n",
       "<table border=\"1\" class=\"dataframe\">\n",
       "  <thead>\n",
       "    <tr style=\"text-align: right;\">\n",
       "      <th></th>\n",
       "      <th>v69_registration_id_nbr</th>\n",
       "      <th>season</th>\n",
       "      <th>video_series_nm</th>\n",
       "      <th>min_day_dt</th>\n",
       "      <th>max_day_dt</th>\n",
       "      <th>media_start_cnt</th>\n",
       "      <th>video_cnt</th>\n",
       "      <th>user_id</th>\n",
       "      <th>plan</th>\n",
       "      <th>plan_type</th>\n",
       "      <th>user_state</th>\n",
       "      <th>activate_dt</th>\n",
       "      <th>bill_platform</th>\n",
       "      <th>src_system_id</th>\n",
       "      <th>expiration_dt</th>\n",
       "      <th>registration_dt</th>\n",
       "      <th>dw_create_dt_ut</th>\n",
       "      <th>dw_update_dt_ut</th>\n",
       "      <th>src_instance_nm</th>\n",
       "    </tr>\n",
       "  </thead>\n",
       "  <tbody>\n",
       "    <tr>\n",
       "      <td>14138</td>\n",
       "      <td>29014366</td>\n",
       "      <td>season_1</td>\n",
       "      <td>Strange Angel</td>\n",
       "      <td>2019-06-02</td>\n",
       "      <td>2019-06-04</td>\n",
       "      <td>2</td>\n",
       "      <td>1</td>\n",
       "      <td>29014366</td>\n",
       "      <td>CF</td>\n",
       "      <td>monthly</td>\n",
       "      <td>subscriber</td>\n",
       "      <td>2018-07-05 22:20:49</td>\n",
       "      <td>amazonappstore</td>\n",
       "      <td>108</td>\n",
       "      <td>None</td>\n",
       "      <td>2018-07-05</td>\n",
       "      <td>2019-05-14 15:45:56.236491+00:00</td>\n",
       "      <td>2019-05-14 15:45:56.236491+00:00</td>\n",
       "      <td>cbsreg</td>\n",
       "    </tr>\n",
       "    <tr>\n",
       "      <td>14139</td>\n",
       "      <td>33758162</td>\n",
       "      <td>season_1</td>\n",
       "      <td>Strange Angel</td>\n",
       "      <td>2019-06-02</td>\n",
       "      <td>2019-06-02</td>\n",
       "      <td>1</td>\n",
       "      <td>1</td>\n",
       "      <td>33758162</td>\n",
       "      <td>LC</td>\n",
       "      <td>monthly</td>\n",
       "      <td>subscriber</td>\n",
       "      <td>2019-04-11 02:11:32</td>\n",
       "      <td>amazonappstore</td>\n",
       "      <td>108</td>\n",
       "      <td>None</td>\n",
       "      <td>2019-04-11</td>\n",
       "      <td>2019-05-14 15:45:56.236491+00:00</td>\n",
       "      <td>2019-05-14 15:45:56.236491+00:00</td>\n",
       "      <td>cbsreg</td>\n",
       "    </tr>\n",
       "    <tr>\n",
       "      <td>14140</td>\n",
       "      <td>12030447</td>\n",
       "      <td>season_1</td>\n",
       "      <td>Strange Angel</td>\n",
       "      <td>2019-06-01</td>\n",
       "      <td>2019-06-01</td>\n",
       "      <td>2</td>\n",
       "      <td>2</td>\n",
       "      <td>12030447</td>\n",
       "      <td>LC</td>\n",
       "      <td>monthly</td>\n",
       "      <td>subscriber</td>\n",
       "      <td>2019-09-29 14:38:57</td>\n",
       "      <td>amazonappstore</td>\n",
       "      <td>108</td>\n",
       "      <td>None</td>\n",
       "      <td>2014-12-10</td>\n",
       "      <td>2019-05-14 15:45:56.236491+00:00</td>\n",
       "      <td>2019-09-30 17:03:51.548463+00:00</td>\n",
       "      <td>cbsreg</td>\n",
       "    </tr>\n",
       "    <tr>\n",
       "      <td>14141</td>\n",
       "      <td>24076298</td>\n",
       "      <td>season_1</td>\n",
       "      <td>Strange Angel</td>\n",
       "      <td>2019-06-02</td>\n",
       "      <td>2019-06-02</td>\n",
       "      <td>1</td>\n",
       "      <td>1</td>\n",
       "      <td>24076298</td>\n",
       "      <td>LC</td>\n",
       "      <td>monthly</td>\n",
       "      <td>subscriber</td>\n",
       "      <td>2017-09-20 14:59:04</td>\n",
       "      <td>amazonappstore</td>\n",
       "      <td>108</td>\n",
       "      <td>None</td>\n",
       "      <td>2017-09-20</td>\n",
       "      <td>2019-05-14 15:45:56.236491+00:00</td>\n",
       "      <td>2019-05-14 15:45:56.236491+00:00</td>\n",
       "      <td>cbsreg</td>\n",
       "    </tr>\n",
       "    <tr>\n",
       "      <td>14142</td>\n",
       "      <td>22478363</td>\n",
       "      <td>season_1</td>\n",
       "      <td>Strange Angel</td>\n",
       "      <td>2019-06-01</td>\n",
       "      <td>2019-06-01</td>\n",
       "      <td>1</td>\n",
       "      <td>1</td>\n",
       "      <td>22478363</td>\n",
       "      <td>LC</td>\n",
       "      <td>monthly</td>\n",
       "      <td>subscriber</td>\n",
       "      <td>2018-09-24 13:06:35</td>\n",
       "      <td>amazonappstore</td>\n",
       "      <td>108</td>\n",
       "      <td>None</td>\n",
       "      <td>2017-05-23</td>\n",
       "      <td>2019-05-14 15:45:56.236491+00:00</td>\n",
       "      <td>2019-05-14 15:45:56.236491+00:00</td>\n",
       "      <td>cbsreg</td>\n",
       "    </tr>\n",
       "  </tbody>\n",
       "</table>\n",
       "</div>"
      ],
      "text/plain": [
       "      v69_registration_id_nbr    season video_series_nm  min_day_dt  \\\n",
       "14138                29014366  season_1   Strange Angel  2019-06-02   \n",
       "14139                33758162  season_1   Strange Angel  2019-06-02   \n",
       "14140                12030447  season_1   Strange Angel  2019-06-01   \n",
       "14141                24076298  season_1   Strange Angel  2019-06-02   \n",
       "14142                22478363  season_1   Strange Angel  2019-06-01   \n",
       "\n",
       "       max_day_dt  media_start_cnt  video_cnt   user_id plan plan_type  \\\n",
       "14138  2019-06-04                2          1  29014366   CF   monthly   \n",
       "14139  2019-06-02                1          1  33758162   LC   monthly   \n",
       "14140  2019-06-01                2          2  12030447   LC   monthly   \n",
       "14141  2019-06-02                1          1  24076298   LC   monthly   \n",
       "14142  2019-06-01                1          1  22478363   LC   monthly   \n",
       "\n",
       "       user_state         activate_dt   bill_platform  src_system_id  \\\n",
       "14138  subscriber 2018-07-05 22:20:49  amazonappstore            108   \n",
       "14139  subscriber 2019-04-11 02:11:32  amazonappstore            108   \n",
       "14140  subscriber 2019-09-29 14:38:57  amazonappstore            108   \n",
       "14141  subscriber 2017-09-20 14:59:04  amazonappstore            108   \n",
       "14142  subscriber 2018-09-24 13:06:35  amazonappstore            108   \n",
       "\n",
       "      expiration_dt registration_dt                  dw_create_dt_ut  \\\n",
       "14138          None      2018-07-05 2019-05-14 15:45:56.236491+00:00   \n",
       "14139          None      2019-04-11 2019-05-14 15:45:56.236491+00:00   \n",
       "14140          None      2014-12-10 2019-05-14 15:45:56.236491+00:00   \n",
       "14141          None      2017-09-20 2019-05-14 15:45:56.236491+00:00   \n",
       "14142          None      2017-05-23 2019-05-14 15:45:56.236491+00:00   \n",
       "\n",
       "                       dw_update_dt_ut src_instance_nm  \n",
       "14138 2019-05-14 15:45:56.236491+00:00          cbsreg  \n",
       "14139 2019-05-14 15:45:56.236491+00:00          cbsreg  \n",
       "14140 2019-09-30 17:03:51.548463+00:00          cbsreg  \n",
       "14141 2019-05-14 15:45:56.236491+00:00          cbsreg  \n",
       "14142 2019-05-14 15:45:56.236491+00:00          cbsreg  "
      ]
     },
     "execution_count": 15,
     "metadata": {},
     "output_type": "execute_result"
    }
   ],
   "source": [
    "df_audience_raw.tail()"
   ]
  },
  {
   "cell_type": "code",
   "execution_count": 16,
   "metadata": {},
   "outputs": [],
   "source": [
    "cols = [ \n",
    " 'user_id',\n",
    " 'season',\n",
    " 'video_series_nm',\n",
    " 'media_start_cnt',\n",
    " 'video_cnt',\n",
    " 'plan',\n",
    " 'plan_type',\n",
    " 'user_state',\n",
    " 'src_system_id']"
   ]
  },
  {
   "cell_type": "code",
   "execution_count": 17,
   "metadata": {},
   "outputs": [
    {
     "data": {
      "text/html": [
       "<div>\n",
       "<style scoped>\n",
       "    .dataframe tbody tr th:only-of-type {\n",
       "        vertical-align: middle;\n",
       "    }\n",
       "\n",
       "    .dataframe tbody tr th {\n",
       "        vertical-align: top;\n",
       "    }\n",
       "\n",
       "    .dataframe thead th {\n",
       "        text-align: right;\n",
       "    }\n",
       "</style>\n",
       "<table border=\"1\" class=\"dataframe\">\n",
       "  <thead>\n",
       "    <tr style=\"text-align: right;\">\n",
       "      <th></th>\n",
       "      <th>user_id</th>\n",
       "      <th>season</th>\n",
       "      <th>video_series_nm</th>\n",
       "      <th>media_start_cnt</th>\n",
       "      <th>video_cnt</th>\n",
       "      <th>plan</th>\n",
       "      <th>plan_type</th>\n",
       "      <th>user_state</th>\n",
       "      <th>src_system_id</th>\n",
       "    </tr>\n",
       "  </thead>\n",
       "  <tbody>\n",
       "    <tr>\n",
       "      <td>0</td>\n",
       "      <td>17038332</td>\n",
       "      <td>season_1</td>\n",
       "      <td>Strange Angel</td>\n",
       "      <td>4</td>\n",
       "      <td>2</td>\n",
       "      <td>LC</td>\n",
       "      <td>monthly</td>\n",
       "      <td>ex-subscriber</td>\n",
       "      <td>108</td>\n",
       "    </tr>\n",
       "    <tr>\n",
       "      <td>1</td>\n",
       "      <td>15367223</td>\n",
       "      <td>season_1</td>\n",
       "      <td>Strange Angel</td>\n",
       "      <td>2</td>\n",
       "      <td>2</td>\n",
       "      <td>CF</td>\n",
       "      <td>monthly</td>\n",
       "      <td>ex-subscriber</td>\n",
       "      <td>108</td>\n",
       "    </tr>\n",
       "    <tr>\n",
       "      <td>2</td>\n",
       "      <td>24252308</td>\n",
       "      <td>season_1</td>\n",
       "      <td>Strange Angel</td>\n",
       "      <td>1</td>\n",
       "      <td>1</td>\n",
       "      <td>LC</td>\n",
       "      <td>monthly</td>\n",
       "      <td>ex-subscriber</td>\n",
       "      <td>108</td>\n",
       "    </tr>\n",
       "    <tr>\n",
       "      <td>3</td>\n",
       "      <td>20814935</td>\n",
       "      <td>season_1</td>\n",
       "      <td>Strange Angel</td>\n",
       "      <td>1</td>\n",
       "      <td>1</td>\n",
       "      <td>LC</td>\n",
       "      <td>monthly</td>\n",
       "      <td>ex-subscriber</td>\n",
       "      <td>108</td>\n",
       "    </tr>\n",
       "    <tr>\n",
       "      <td>4</td>\n",
       "      <td>34092910</td>\n",
       "      <td>season_1</td>\n",
       "      <td>Strange Angel</td>\n",
       "      <td>2</td>\n",
       "      <td>1</td>\n",
       "      <td>LC</td>\n",
       "      <td>monthly</td>\n",
       "      <td>ex-subscriber</td>\n",
       "      <td>108</td>\n",
       "    </tr>\n",
       "  </tbody>\n",
       "</table>\n",
       "</div>"
      ],
      "text/plain": [
       "    user_id    season video_series_nm  media_start_cnt  video_cnt plan  \\\n",
       "0  17038332  season_1   Strange Angel                4          2   LC   \n",
       "1  15367223  season_1   Strange Angel                2          2   CF   \n",
       "2  24252308  season_1   Strange Angel                1          1   LC   \n",
       "3  20814935  season_1   Strange Angel                1          1   LC   \n",
       "4  34092910  season_1   Strange Angel                2          1   LC   \n",
       "\n",
       "  plan_type     user_state  src_system_id  \n",
       "0   monthly  ex-subscriber            108  \n",
       "1   monthly  ex-subscriber            108  \n",
       "2   monthly  ex-subscriber            108  \n",
       "3   monthly  ex-subscriber            108  \n",
       "4   monthly  ex-subscriber            108  "
      ]
     },
     "execution_count": 17,
     "metadata": {},
     "output_type": "execute_result"
    }
   ],
   "source": [
    "df_audience_raw[cols].head()"
   ]
  },
  {
   "cell_type": "markdown",
   "metadata": {},
   "source": [
    "__Pivot By Seaosn Number__"
   ]
  },
  {
   "cell_type": "code",
   "execution_count": 48,
   "metadata": {},
   "outputs": [],
   "source": [
    "df_audience_pivot = pd.pivot_table(df_audience_raw[cols], values='media_start_cnt', \n",
    "               index=['user_id', 'video_series_nm','plan','plan_type', 'user_state', 'src_system_id' ]\n",
    "               ,columns='season').fillna(0).reset_index()"
   ]
  },
  {
   "cell_type": "code",
   "execution_count": 49,
   "metadata": {},
   "outputs": [
    {
     "data": {
      "text/html": [
       "<div>\n",
       "<style scoped>\n",
       "    .dataframe tbody tr th:only-of-type {\n",
       "        vertical-align: middle;\n",
       "    }\n",
       "\n",
       "    .dataframe tbody tr th {\n",
       "        vertical-align: top;\n",
       "    }\n",
       "\n",
       "    .dataframe thead th {\n",
       "        text-align: right;\n",
       "    }\n",
       "</style>\n",
       "<table border=\"1\" class=\"dataframe\">\n",
       "  <thead>\n",
       "    <tr style=\"text-align: right;\">\n",
       "      <th>season</th>\n",
       "      <th>user_id</th>\n",
       "      <th>video_series_nm</th>\n",
       "      <th>plan</th>\n",
       "      <th>plan_type</th>\n",
       "      <th>user_state</th>\n",
       "      <th>src_system_id</th>\n",
       "      <th>season_1</th>\n",
       "      <th>season_2</th>\n",
       "    </tr>\n",
       "  </thead>\n",
       "  <tbody>\n",
       "    <tr>\n",
       "      <th>0</th>\n",
       "      <td>461</td>\n",
       "      <td>Strange Angel</td>\n",
       "      <td>CF</td>\n",
       "      <td>monthly</td>\n",
       "      <td>subscriber</td>\n",
       "      <td>108</td>\n",
       "      <td>20.0</td>\n",
       "      <td>2.0</td>\n",
       "    </tr>\n",
       "    <tr>\n",
       "      <th>1</th>\n",
       "      <td>779</td>\n",
       "      <td>Strange Angel</td>\n",
       "      <td>CF</td>\n",
       "      <td>monthly</td>\n",
       "      <td>subscriber</td>\n",
       "      <td>108</td>\n",
       "      <td>1.0</td>\n",
       "      <td>0.0</td>\n",
       "    </tr>\n",
       "    <tr>\n",
       "      <th>2</th>\n",
       "      <td>888</td>\n",
       "      <td>Strange Angel</td>\n",
       "      <td>LC</td>\n",
       "      <td>monthly</td>\n",
       "      <td>ex-subscriber</td>\n",
       "      <td>108</td>\n",
       "      <td>43.0</td>\n",
       "      <td>0.0</td>\n",
       "    </tr>\n",
       "    <tr>\n",
       "      <th>3</th>\n",
       "      <td>3150</td>\n",
       "      <td>Strange Angel</td>\n",
       "      <td>CF</td>\n",
       "      <td>monthly</td>\n",
       "      <td>subscriber</td>\n",
       "      <td>108</td>\n",
       "      <td>17.0</td>\n",
       "      <td>0.0</td>\n",
       "    </tr>\n",
       "    <tr>\n",
       "      <th>4</th>\n",
       "      <td>3637</td>\n",
       "      <td>Strange Angel</td>\n",
       "      <td>CF</td>\n",
       "      <td>monthly</td>\n",
       "      <td>subscriber</td>\n",
       "      <td>108</td>\n",
       "      <td>0.0</td>\n",
       "      <td>1.0</td>\n",
       "    </tr>\n",
       "  </tbody>\n",
       "</table>\n",
       "</div>"
      ],
      "text/plain": [
       "season  user_id video_series_nm plan plan_type     user_state  src_system_id  \\\n",
       "0           461   Strange Angel   CF   monthly     subscriber            108   \n",
       "1           779   Strange Angel   CF   monthly     subscriber            108   \n",
       "2           888   Strange Angel   LC   monthly  ex-subscriber            108   \n",
       "3          3150   Strange Angel   CF   monthly     subscriber            108   \n",
       "4          3637   Strange Angel   CF   monthly     subscriber            108   \n",
       "\n",
       "season  season_1  season_2  \n",
       "0           20.0       2.0  \n",
       "1            1.0       0.0  \n",
       "2           43.0       0.0  \n",
       "3           17.0       0.0  \n",
       "4            0.0       1.0  "
      ]
     },
     "execution_count": 49,
     "metadata": {},
     "output_type": "execute_result"
    }
   ],
   "source": [
    "df_audience_pivot.head()"
   ]
  },
  {
   "cell_type": "markdown",
   "metadata": {},
   "source": [
    "__Count of Sub States__"
   ]
  },
  {
   "cell_type": "code",
   "execution_count": 50,
   "metadata": {},
   "outputs": [
    {
     "data": {
      "text/html": [
       "<div>\n",
       "<style scoped>\n",
       "    .dataframe tbody tr th:only-of-type {\n",
       "        vertical-align: middle;\n",
       "    }\n",
       "\n",
       "    .dataframe tbody tr th {\n",
       "        vertical-align: top;\n",
       "    }\n",
       "\n",
       "    .dataframe thead th {\n",
       "        text-align: right;\n",
       "    }\n",
       "</style>\n",
       "<table border=\"1\" class=\"dataframe\">\n",
       "  <thead>\n",
       "    <tr style=\"text-align: right;\">\n",
       "      <th></th>\n",
       "      <th>user_id</th>\n",
       "    </tr>\n",
       "    <tr>\n",
       "      <th>user_state</th>\n",
       "      <th></th>\n",
       "    </tr>\n",
       "  </thead>\n",
       "  <tbody>\n",
       "    <tr>\n",
       "      <th>ex-subscriber</th>\n",
       "      <td>104501</td>\n",
       "    </tr>\n",
       "    <tr>\n",
       "      <th>subscriber</th>\n",
       "      <td>289430</td>\n",
       "    </tr>\n",
       "  </tbody>\n",
       "</table>\n",
       "</div>"
      ],
      "text/plain": [
       "               user_id\n",
       "user_state            \n",
       "ex-subscriber   104501\n",
       "subscriber      289430"
      ]
     },
     "execution_count": 50,
     "metadata": {},
     "output_type": "execute_result"
    }
   ],
   "source": [
    "df_audience_pivot.groupby('user_state').agg({'user_id':'count'})"
   ]
  },
  {
   "cell_type": "markdown",
   "metadata": {},
   "source": [
    "__Filter Audience Down__   \n",
    "Watched Season 1 but has not started season 2"
   ]
  },
  {
   "cell_type": "code",
   "execution_count": 73,
   "metadata": {},
   "outputs": [],
   "source": [
    "df_audience = df_audience_pivot[(df_audience_pivot.season_1 > 0) & (df_audience_pivot.season_2 == 0) ]"
   ]
  },
  {
   "cell_type": "markdown",
   "metadata": {},
   "source": [
    "__Export Audiences__"
   ]
  },
  {
   "cell_type": "code",
   "execution_count": 77,
   "metadata": {},
   "outputs": [],
   "source": [
    "def file_namer(show_nm, sub_state):\n",
    "    #file_nm = \"{}-{}.csv.zip\".format(show_nm, sub_state)\n",
    "    file_nm = \"results.csv.zip\"\n",
    "    display(file_nm)\n",
    "    return file_nm"
   ]
  },
  {
   "cell_type": "code",
   "execution_count": 78,
   "metadata": {},
   "outputs": [
    {
     "data": {
      "text/plain": [
       "'Strange Angel-ex-sub.csv.zip'"
      ]
     },
     "metadata": {},
     "output_type": "display_data"
    }
   ],
   "source": [
    "df_audience.to_csv(\"results.csv\", index=False, header=True)"
   ]
  }
 ],
 "metadata": {
  "celltoolbar": "Tags",
  "jupytext": {
   "text_representation": {
    "extension": ".py",
    "format_name": "light",
    "format_version": "1.4",
    "jupytext_version": "1.1.1"
   }
  },
  "kernelspec": {
   "display_name": "Python 3",
   "language": "python",
   "name": "python3"
  },
  "language_info": {
   "codemirror_mode": {
    "name": "ipython",
    "version": 3
   },
   "file_extension": ".py",
   "mimetype": "text/x-python",
   "name": "python",
   "nbconvert_exporter": "python",
   "pygments_lexer": "ipython3",
   "version": "3.7.4"
  }
 },
 "nbformat": 4,
 "nbformat_minor": 4
}
