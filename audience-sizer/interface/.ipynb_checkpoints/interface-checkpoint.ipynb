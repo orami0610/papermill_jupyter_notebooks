{
 "cells": [
  {
   "cell_type": "markdown",
   "metadata": {},
   "source": [
    "# Marketing Audience Sizer:"
   ]
  },
  {
   "cell_type": "code",
   "execution_count": 1,
   "metadata": {},
   "outputs": [],
   "source": [
    "import sys\n",
    "import logging\n",
    "\n",
    "from datetime import datetime, date, timedelta\n",
    "import numpy as np\n",
    "import ipywidgets as widgets\n",
    "from ipywidgets import interact, interact_manual\n",
    "import ipyvuetify as v\n",
    "\n",
    "#%load_ext autoreload\n",
    "# %autoreload 2\n",
    "\n",
    "import pandas as pd\n",
    "pd.set_option(\"display.max_rows\", 120)\n",
    "pd.set_option(\"display.max_columns\", 120)\n",
    "\n",
    "logging.basicConfig(level=logging.INFO, stream=sys.stdout)"
   ]
  },
  {
   "cell_type": "code",
   "execution_count": 2,
   "metadata": {
    "lines_to_next_cell": 0
   },
   "outputs": [],
   "source": [
    "from google.cloud import bigquery\n",
    "from google.oauth2 import service_account\n",
    "from pathlib import Path\n",
    "\n",
    "JUPYTER_NB_NAME = 'audience-sizer'\n",
    "\n",
    "key_path = Path('/Users/orami0610/.ssh/google-api/keys/i-dss-cdm-data-e812ceff6640.json')\n",
    "\n",
    "credentials = service_account.Credentials.from_service_account_file(str(key_path))\n",
    "project_id = \"i-dss-cdm-data\"\n",
    "\n",
    "\n",
    "# service_account = get_service_account_key(CDM_DATA_SERVICE_ACCOUNT)\n",
    "# service_account = get_service_account_key(DEFAULT_CREDENTIALS)\n",
    "\n",
    "bq = bigquery.Client(credentials=credentials, project=project_id)\n",
    "\n",
    "# bq = BQConnector(service_account, project_id)"
   ]
  },
  {
   "cell_type": "code",
   "execution_count": 3,
   "metadata": {},
   "outputs": [],
   "source": [
    "# Get show names:\n",
    "sql_shows = \"\"\"\n",
    "SELECT  DISTINCT\n",
    "v.video_series_nm\n",
    "FROM\n",
    "`i-dss-cdm-data.dw_vw.mpx_video_content` v\n",
    "WHERE\n",
    "video_series_nm IS NOT NULL\n",
    "AND cbs_show_id IS NOT NULL\n",
    "AND tms_series_id_nbr IS NOT NULL\n",
    "ORDER BY 1\n",
    "\"\"\"\n",
    "\n",
    "query_job = bq.query(sql_shows)\n",
    "shows = query_job\n",
    "show_nms = [str(row[0]) for row in shows]"
   ]
  },
  {
   "cell_type": "code",
   "execution_count": 4,
   "metadata": {},
   "outputs": [
    {
     "data": {
      "application/vnd.jupyter.widget-view+json": {
       "model_id": "3624281cc73343dc883f429cc654c6a3",
       "version_major": 2,
       "version_minor": 0
      },
      "text/plain": [
       "Layout(children=[Select(items=['2 Broke Girls', '2 Broke Girls at Paley Fest', '48 Hours', '48 Hours Classics'…"
      ]
     },
     "metadata": {},
     "output_type": "display_data"
    }
   ],
   "source": [
    "show_names=v.Select(label=\"Show Name:\", items=show_nms, v_model=show_nms[0])\n",
    "show_selected = v.Layout(children=[show_names])\n",
    "show_selected"
   ]
  },
  {
   "cell_type": "code",
   "execution_count": 5,
   "metadata": {},
   "outputs": [
    {
     "data": {
      "application/vnd.jupyter.widget-view+json": {
       "model_id": "d0e9539699e547e694164482bfda0e25",
       "version_major": 2,
       "version_minor": 0
      },
      "text/plain": [
       "Text(value='')"
      ]
     },
     "metadata": {},
     "output_type": "display_data"
    }
   ],
   "source": [
    "show_nm_out = widgets.Text(value='', disabled=False)\n",
    "show_nm_out"
   ]
  },
  {
   "cell_type": "code",
   "execution_count": 6,
   "metadata": {},
   "outputs": [],
   "source": [
    "show_nm_link = widgets.link((show_names, 'v_model'), (show_nm_out, 'value'))"
   ]
  },
  {
   "cell_type": "code",
   "execution_count": 7,
   "metadata": {},
   "outputs": [
    {
     "data": {
      "application/vnd.jupyter.widget-view+json": {
       "model_id": "e894c04a2ee74d28abe28fb35a5c8da5",
       "version_major": 2,
       "version_minor": 0
      },
      "text/plain": [
       "DatePicker(value=None, description='Start Date:')"
      ]
     },
     "metadata": {},
     "output_type": "display_data"
    }
   ],
   "source": [
    "from IPython.display import display\n",
    "#start_date_tb = widgets.Text(placeholder='YYYY/MM/DD')\n",
    "start_date = widgets.DatePicker(\n",
    "    description='Start Date:'\n",
    ")\n",
    "display(start_date)"
   ]
  },
  {
   "cell_type": "code",
   "execution_count": 8,
   "metadata": {},
   "outputs": [
    {
     "data": {
      "application/vnd.jupyter.widget-view+json": {
       "model_id": "5719c8db4e1d4fb9b969572637b8fb3d",
       "version_major": 2,
       "version_minor": 0
      },
      "text/plain": [
       "DatePicker(value=None, description='End Date:')"
      ]
     },
     "metadata": {},
     "output_type": "display_data"
    }
   ],
   "source": [
    "#end_date_tb = widgets.Text(placeholder='YYYY/MM/DD')\n",
    "end_date = widgets.DatePicker(\n",
    "    description='End Date:'\n",
    ")\n",
    "display(end_date)"
   ]
  },
  {
   "cell_type": "code",
   "execution_count": null,
   "metadata": {},
   "outputs": [],
   "source": [
    "import pathlib\n",
    "    \n",
    "def upload_gcs():\n",
    "    # Sent to i-dss-cdm-data-dev: \n",
    "    from google.cloud import storage\n",
    "    # create storage client\n",
    "    storage_client = storage.Client.from_service_account_json('/Users/orami0610/.ssh/google-api/keys/i-dss-cdm-data-dev-84695d58b9d2.json')\n",
    "    # get bucket with name\n",
    "    bucket = storage_client.get_bucket('papermill_notebooks')\n",
    "    # get bucket data as blob\n",
    "    #blobs = bucket.list_blobs(prefix=f'{JUPYTER_NB_NAME}')\n",
    "        \n",
    "    blob = bucket.blob(f'{JUPYTER_NB_NAME}/params/params.yaml')\n",
    "\n",
    "    # define the path\n",
    "    currentDirectory = pathlib.Path('.')\n",
    "\n",
    "    # define the pattern\n",
    "    currentPattern = \"params.yaml\"\n",
    "\n",
    "    for param_file in currentDirectory.glob(currentPattern):\n",
    "        file = open(param_file)\n",
    "        # blob.upload_from_filename(str(param_file))\n",
    "        blob.upload_from_string(\n",
    "            file.read(),\n",
    "            content_type='application/octet-stream')\n",
    "\n",
    "    print('File {} uploaded to {}.'.format(\n",
    "        'params.yaml',\n",
    "        f'{JUPYTER_NB_NAME}/params/'))\n",
    "    \n",
    "    # https://console.cloud.google.com/storage/browser/papermill_notebookss\n",
    "    url = blob.public_url\n",
    "\n",
    "    return url"
   ]
  },
  {
   "cell_type": "code",
   "execution_count": 12,
   "metadata": {},
   "outputs": [
    {
     "data": {
      "application/vnd.jupyter.widget-view+json": {
       "model_id": "766b0a0c6fd2457c8b086eda88569838",
       "version_major": 2,
       "version_minor": 0
      },
      "text/plain": [
       "VBox(children=(Button(description='Submit', style=ButtonStyle()), Output()))"
      ]
     },
     "metadata": {},
     "output_type": "display_data"
    }
   ],
   "source": [
    "from IPython.display import display, clear_output, Markdown\n",
    "import time\n",
    "import yaml\n",
    "\n",
    "\n",
    "def generate_yaml():\n",
    "    with open('params.yaml', 'w') as outfile:\n",
    "        data = {\n",
    "            'show_nm': show_nm_out.value,\n",
    "            'start_date': start_date.value,\n",
    "            'end_date': end_date.value,\n",
    "            'video_ct': 2,\n",
    "            'len_seconds': 1000\n",
    "        }\n",
    "        yaml.dump(data, outfile, default_flow_style=False)\n",
    "\n",
    "# NEED TO submit and generate a yaml to gcs:\n",
    "submit_button = widgets.Button(description=\"Submit\")\n",
    "out = widgets.Output()\n",
    "def on_button_clicked(_):\n",
    "      # \"linking function with output\"\n",
    "      with out:\n",
    "          # what happens when we press the button\n",
    "            clear_output()\n",
    "            generate_yaml()\n",
    "            upload_gcs()\n",
    "            t = time.localtime()\n",
    "            current_time = time.strftime(\"%H:%M:%S\", t)\n",
    "            print(f'Submitted for Run at {current_time}')\n",
    "            \n",
    "# linking button and function together using a button's method\n",
    "submit_button.on_click(on_button_clicked)\n",
    "# displaying button and its output together\n",
    "widgets.VBox([submit_button,out])"
   ]
  }
 ],
 "metadata": {
  "celltoolbar": "Tags",
  "jupytext": {
   "text_representation": {
    "extension": ".py",
    "format_name": "light",
    "format_version": "1.4",
    "jupytext_version": "1.1.1"
   }
  },
  "kernelspec": {
   "display_name": "Python 3",
   "language": "python",
   "name": "python3"
  },
  "language_info": {
   "codemirror_mode": {
    "name": "ipython",
    "version": 3
   },
   "file_extension": ".py",
   "mimetype": "text/x-python",
   "name": "python",
   "nbconvert_exporter": "python",
   "pygments_lexer": "ipython3",
   "version": "3.7.4"
  }
 },
 "nbformat": 4,
 "nbformat_minor": 2
}
